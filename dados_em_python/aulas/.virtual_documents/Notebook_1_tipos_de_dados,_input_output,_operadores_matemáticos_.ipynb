














numero_de_filhos = 3


numero_de_filhos


type(numero_de_filhos)








altura = 1.78


altura


type(altura)


type(10)


type(10.0)








nome = "André"

trabalho = 'Ada'


print(nome, trabalho)


trecho_de_livro = 'E aí Joãozinho disse: "Oi, tudo bem?"'

print(trecho_de_livro)


nome_comunidade = "Comunidade Let's Code"

print(nome_comunidade)





True


False








# aqui abaixo estou definindo uma variavel que recebe o valor de altura 1,62
altura = 1.62





# esse é um comentário muito grande, e por isso pode ser interessante quebrar
# ele em várias linhas, para ficar mais fácil de ler um comentário grande
# e complexo como esse no meio do código





string_3_aspas = """esse é um comentário muito grande, e por isso pode ser interessante
quebrar ele em várias linhas, para ficar mais fácil de ler
um comentário grande e complexo como esse no meio do código"""


print(string_3_aspas)


'''aqui abaixo estou definindo uma
variavel que recebe o valor de altura 1,62'''
altura = 1.62











print("Olá, mundo!")


cumprimeto = "Olá, André!"

print(cumprimeto)





numero = 50
nome_do_numero = "cinquenta"

print(numero, nome_do_numero, "OIEEE")


print(numero, nome_do_numero, "OIEEE", sep="__")





print(numero, nome_do_numero, "OIEEE", sep="\n")


print("Olá\nmundo!")








resultado = input()

print("O usuário digitou:", resultado)


nome = input("Digite seu nome: ")

print("Bom dia,", nome)





idade = input("Digite sua idade: ")

type(idade)


idade


idade_int = int(idade)

type(idade_int)


idade_int + 5


idade = int(input("Digite sua idade: "))

type(idade)


altura = float(input("Digite sua altura: "))

type(altura)








2+2


2.45245356 + 42


4*3


10/7


2**2


5**2


25**(0.5)


2/0





10/7


10//7





10 % 7


8/9


8//9


8 % 9








# esse numero é par
2393453452 % 2


# esse numero é impar
23934534521 % 2


"a" + "b"


"let's" + " " + "code"


"a"*4



