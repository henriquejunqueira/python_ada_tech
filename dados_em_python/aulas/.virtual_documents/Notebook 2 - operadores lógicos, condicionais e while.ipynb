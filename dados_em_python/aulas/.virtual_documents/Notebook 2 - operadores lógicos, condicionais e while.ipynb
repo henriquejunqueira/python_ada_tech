














numero = 200


numero < 100


numero > 100


numero == 100


numero != 100





numero2 = 100


# 200 > 100

numero > numero2


numero3 = 3.14


# 100 < 3.14

numero2 < numero3


numero2 != numero3


10 == 10.0





s1 = "abacate"
s2 = "abacaxi"


s1 == s2


s1 > s2


s1 < s2


s2 > s1








ord("t")








10 != 10.0


10 > 3.14





10 == 10.0


10 == "10"


10 > "3.14"











print("Operador and:")
print(True and False)
print(False and False)
print(True and True)


# conjunção entre duas expressões lógicas
# True and False, resulta em False

(2 < 5) and (2 == 5)


# True and True, resulta em True

(2 < 5) and (2 != 5)


print("Operador or:")
print(False or True)
print(True or True)
print(False or False)


# True or False, resulta em True

(2 < 5) or (2 == 5)


# False or False, resulta em False
(2 > 5) or (2 == 5)





# (True or False) and False
# (True) and False
# False

(2 < 5 or 2 == 5) and 5 != 5




















media = 3

if media >= 5:
  print("Aprovado!")
else:
  print("Reprovado")





media = 3

if media >= 5:
  print("aprovado")
elif media < 5:
  print("reprovado")





media = 4
frequencia = 50

if media >= 9:
  print("Aprovado")
elif media >= 6 and frequencia >= 75:
  print("Aprovado")
elif media >= 6 and frequencia < 75:
  print("Recuperação")
elif media < 6 and frequencia >= 75:
  print("Recuperação")
else:
  print("Reprovado")








print("Olá, mundo!")
print("Olá, mundo!")
print("Olá, mundo!")
print("Olá, mundo!")
print("Olá, mundo!")








# while 2 == 2:
#   print("Olá, mundo!")





x = 3


x


x = x + 2


x


cont = 1

while cont <= 5:
  print("Olá mundo!")
  # cont = cont + 1
  cont += 1





x = 4
x += 1

x





cont = 1

while cont <= 5:
  print("Olá, mundo!")
  cont += 1


cont = 1

while cont <= 10:
  print(cont)
  cont += 1





# inicialmente, a variavel cont vale 0
cont = 0
print(cont)

# pegamos o valor anterior (0) e somamos 1, ficando 1
cont = cont + 1
print(cont)

# pegamos o valor anterior (1) e somamos 1, ficando 2
cont = cont + 1
print(cont)

# pegamos o valor anterior (2) e somamos 1, ficando 3
cont = cont + 1
print(cont)

# pegamos o valor anterior (3) e somamos 1, ficando 4
cont = cont + 1
print(cont)








num = float(input("Usuário, digite um número maior do que 10: "))

while num <= 10:
  num = float(input("Número digitado foi menor ou igual a 10! Digite um número maior que 10: "))

print("Legal, o número digitado foi", num)





num = float(input("Usuário, digite um número entre 0 e 10: "))

while num > 10 or num < 0:
  num = float(input("Número digitado não está entre 0 e 10! Digite um número entre 0 e 10: "))

print("Legal, o número digitado foi", num)


not True


not False


num = float(input("Usuário, digite um número entre 0 e 10: "))

while not (0 < num < 10):
  num = float(input("Número digitado não está entre 0 e 10! Digite um número entre 0 e 10: "))

print("Legal, o número digitado foi", num)





estado_civil = input("Digite seu estado civil (opções possíveis: S, C, D, V): ")

while estado_civil != "S" and estado_civil != "C" and estado_civil != "D" and estado_civil != "V":
  estado_civil = input("Resposta inválida! Digite seu estado civil (opções possíveis: S, C, D, V): ")

print("O estado civil é", estado_civil)


x = 4
if x <= 4:
    print('Saída 1')
elif x > 5:
    print('Saída 2')
    print('Saída 3')
if x % 4 == 0:
    print('Saída 4')
else:
    print('Saída 5')



