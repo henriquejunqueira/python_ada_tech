

















print("Olá, mundo!")











print(2+2)
print(2*3)
print(4/2)





print(2+2)


2+2





2+2
2*3
4/2











resultado_da_operacao_2_mais_3 = 2 + 3


resultado_da_operacao_2_mais_3


Variavel = 2


VARIAVEL = 20


Variavel


VARIAVEL


meu_numero = 2 + 3
variavel = 1 + 2
x = 2 * 3





meu_numero


x


variavel





print(meu_numero)
print(variavel)
print(x)





x


x = 42





x


print("Olá, André! Tudo bem?")


print("um", "dois", "três")


nome = "Maria!"

print("Olá,", nome, "Tudo bem?")



